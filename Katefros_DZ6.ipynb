{
 "cells": [
  {
   "cell_type": "markdown",
   "metadata": {},
   "source": [
    "#### Задание 1\n",
    "Печатные газеты использовали свой формат дат для каждого выпуска.   \n",
    "Для каждой газеты из списка напишите формат указанной даты для перевода в объект datetime:  \n",
    "The Moscow Times - Wednesday, October 2, 2002  \n",
    "The Guardian - Friday, 11.10.13  \n",
    "Daily News - Thursday, 18 August 1977"
   ]
  },
  {
   "cell_type": "code",
   "execution_count": 89,
   "metadata": {},
   "outputs": [
    {
     "name": "stdout",
     "output_type": "stream",
     "text": [
      "2002-10-02 00:00:00\n",
      "2013-10-11 00:00:00\n",
      "1977-08-18 00:00:00\n"
     ]
    }
   ],
   "source": [
    "from datetime import datetime\n",
    "\n",
    "format_time= ['%A, %B %d, %Y','%A, %d.%m.%y','%A, %d %B %Y']\n",
    "papers_dates = {\n",
    "'The Moscow Times': 'Wednesday, October 2, 2002',\n",
    "'The Guardian':  'Friday, 11.10.13',\n",
    "'Daily News': 'Thursday, 18 August 1977'\n",
    "}\n",
    "\n",
    "def convert(data):\n",
    "    for format_ in format_time:\n",
    "        try:\n",
    "            return(datetime.strptime(data,format_))\n",
    "        except:\n",
    "            continue\n",
    "            \n",
    "for key in papers_dates.keys():\n",
    "    print(convert(papers_dates[key]))"
   ]
  },
  {
   "cell_type": "markdown",
   "metadata": {},
   "source": [
    "#### Задание 2  \n",
    "Дан поток дат в формате YYYY-MM-DD, в которых встречаются некорректные значения:  \n",
    "stream = [‘2018-04-02’, ‘2018-02-29’, ‘2018-19-02’]  \n",
    "Напишите функцию, которая проверяет эти даты на корректность. Т. е. для каждой даты возвращает True (дата корректна) или False (некорректная дата)."
   ]
  },
  {
   "cell_type": "code",
   "execution_count": 137,
   "metadata": {},
   "outputs": [
    {
     "name": "stdout",
     "output_type": "stream",
     "text": [
      "True\n",
      "False\n",
      "False\n"
     ]
    }
   ],
   "source": [
    "stream = ['2018-04-02', '2018-02-29', '2018-19-02']\n",
    "\n",
    "def check_date(date_):\n",
    "    try:\n",
    "        datetime.strptime(date_, '%Y-%m-%d')\n",
    "        return True\n",
    "    except ValueError:\n",
    "        return False\n",
    "        pass\n",
    "\n",
    "for date_ in stream:\n",
    "    print(check_date(date_))"
   ]
  },
  {
   "cell_type": "markdown",
   "metadata": {},
   "source": [
    "#### Задание 3\n",
    "Напишите функцию date_range, которая возвращает список дат за период от start_date до end_date.  \n",
    "Даты должны вводиться в формате YYYY-MM-DD. В случае неверного формата или при start_date > end_date должен возвращаться пустой список."
   ]
  },
  {
   "cell_type": "code",
   "execution_count": 4,
   "metadata": {
    "scrolled": true
   },
   "outputs": [
    {
     "data": {
      "text/plain": [
       "['2021-06-01',\n",
       " '2021-06-02',\n",
       " '2021-06-03',\n",
       " '2021-06-04',\n",
       " '2021-06-05',\n",
       " '2021-06-06',\n",
       " '2021-06-07']"
      ]
     },
     "execution_count": 4,
     "metadata": {},
     "output_type": "execute_result"
    }
   ],
   "source": [
    "def date_range(start_date,end_date):\n",
    "\n",
    "    from datetime import datetime\n",
    "    from datetime import timedelta\n",
    "    days =[]\n",
    "    \n",
    "    try:\n",
    "        start_date_f = datetime.strptime(start_date, '%Y-%m-%d')\n",
    "        end_date_f = datetime.strptime(end_date, '%Y-%m-%d')\n",
    "        while start_date_f <= end_date_f:\n",
    "            days.append(start_date_f.strftime('%Y-%m-%d'))\n",
    "            start_date_f += timedelta(days=1)\n",
    "        return days\n",
    "    except:\n",
    "        pass\n",
    "        return days\n",
    "    \n",
    "date_range('2021-06-01','2021-06-07')"
   ]
  },
  {
   "cell_type": "markdown",
   "metadata": {},
   "source": [
    "#### Задание 4 (бонусное)\n",
    "Ваш коллега прислал код функции:\n",
    "DEFAULT_USER_COUNT = 3\n",
    "def delete_and_return_last_user(region, default_list=[‘A100’, ‘A101’, ‘A102’]):\n",
    "\"\"“\n",
    "Удаляет из списка default_list последнего пользователя\n",
    "и возвращает ID нового последнего пользователя.\n",
    "”\"\"\n",
    "element_to_delete = default_list[-1]\n",
    "default_list.remove(element_to_delete)\n",
    "1\n",
    "return default_list[DEFAULT_USER_COUNT-2]\n",
    "При однократном вызове этой функции все работает корректно:\n",
    "delete_and_return_last_user(1)\n",
    "‘A101’  \n",
    "Однако, при повторном вызове получается ошибка IndexError: list index out of range.\n",
    "\n",
    "Задание:  \n",
    "Что значит ошибка list index out of range?  \n",
    "Почему при первом запуске функция работает корректно, а при втором - нет?"
   ]
  },
  {
   "cell_type": "markdown",
   "metadata": {},
   "source": [
    "Ответ:  \n",
    "1. Эта ошибка означает, что в процессе итерации идет обращение к индексу элемента, которого не существует.  \n",
    "Олег на одном из вебинаров, кажется, разбирал похожий пример.  \n",
    "Правило - нельзя редактировать итерируемый объект. В данном случае мы удаляем элементы из списка, который итерируем.\n",
    "2. При первом обращении список начальный, при втором - уже измененный (с меньшим числом элементов).   \n",
    "Чтобы избежать такой ошибки, можно было бы создать другой список, который наполнялся бы по мере обработки первого без редактирования первого."
   ]
  }
 ],
 "metadata": {
  "kernelspec": {
   "display_name": "Python 3",
   "language": "python",
   "name": "python3"
  },
  "language_info": {
   "codemirror_mode": {
    "name": "ipython",
    "version": 3
   },
   "file_extension": ".py",
   "mimetype": "text/x-python",
   "name": "python",
   "nbconvert_exporter": "python",
   "pygments_lexer": "ipython3",
   "version": "3.8.5"
  }
 },
 "nbformat": 4,
 "nbformat_minor": 4
}
