{
 "cells": [
  {
   "cell_type": "markdown",
   "metadata": {},
   "source": [
    "#### Задание 1\n",
    "Печатные газеты использовали свой формат дат для каждого выпуска.   \n",
    "Для каждой газеты из списка напишите формат указанной даты для перевода в объект datetime:  \n",
    "The Moscow Times - Wednesday, October 2, 2002  \n",
    "The Guardian - Friday, 11.10.13  \n",
    "Daily News - Thursday, 18 August 1977"
   ]
  },
  {
   "cell_type": "code",
   "execution_count": 89,
   "metadata": {},
   "outputs": [
    {
     "name": "stdout",
     "output_type": "stream",
     "text": [
      "2002-10-02 00:00:00\n",
      "2013-10-11 00:00:00\n",
      "1977-08-18 00:00:00\n"
     ]
    }
   ],
   "source": [
    "from datetime import datetime\n",
    "\n",
    "format_time= ['%A, %B %d, %Y','%A, %d.%m.%y','%A, %d %B %Y']\n",
    "papers_dates = {\n",
    "'The Moscow Times': 'Wednesday, October 2, 2002',\n",
    "'The Guardian':  'Friday, 11.10.13',\n",
    "'Daily News': 'Thursday, 18 August 1977'\n",
    "}\n",
    "\n",
    "def convert(data):\n",
    "    for format_ in format_time:\n",
    "        try:\n",
    "            return(datetime.strptime(data,format_))\n",
    "        except:\n",
    "            continue\n",
    "            \n",
    "for key in papers_dates.keys():\n",
    "    print(convert(papers_dates[key]))"
   ]
  },
  {
   "cell_type": "markdown",
   "metadata": {},
   "source": [
    "#### Задание 2  \n",
    "Дан поток дат в формате YYYY-MM-DD, в которых встречаются некорректные значения:  \n",
    "stream = [‘2018-04-02’, ‘2018-02-29’, ‘2018-19-02’]  \n",
    "Напишите функцию, которая проверяет эти даты на корректность. Т. е. для каждой даты возвращает True (дата корректна) или False (некорректная дата)."
   ]
  },
  {
   "cell_type": "code",
   "execution_count": 137,
   "metadata": {},
   "outputs": [
    {
     "name": "stdout",
     "output_type": "stream",
     "text": [
      "True\n",
      "False\n",
      "False\n"
     ]
    }
   ],
   "source": [
    "stream = ['2018-04-02', '2018-02-29', '2018-19-02']\n",
    "\n",
    "def check_date(date_):\n",
    "    try:\n",
    "        datetime.strptime(date_, '%Y-%m-%d')\n",
    "        return True\n",
    "    except ValueError:\n",
    "        return False\n",
    "        pass\n",
    "\n",
    "for date_ in stream:\n",
    "    print(check_date(date_))"
   ]
  },
  {
   "cell_type": "markdown",
   "metadata": {},
   "source": [
    "#### Задание 3\n",
    "Напишите функцию date_range, которая возвращает список дат за период от start_date до end_date.  \n",
    "Даты должны вводиться в формате YYYY-MM-DD. В случае неверного формата или при start_date > end_date должен возвращаться пустой список."
   ]
  },
  {
   "cell_type": "code",
   "execution_count": 136,
   "metadata": {},
   "outputs": [
    {
     "name": "stdout",
     "output_type": "stream",
     "text": [
      "['2021-06-01', '2021-06-02', '2021-06-03', '2021-06-04', '2021-06-05', '2021-06-06', '2021-06-07']\n"
     ]
    }
   ],
   "source": [
    "def date_range(start_date,end_date):\n",
    "\n",
    "    from datetime import timedelta\n",
    "\n",
    "    start_date_f = datetime.strptime(start_date, '%Y-%m-%d')\n",
    "    end_date_f = datetime.strptime(end_date, '%Y-%m-%d')\n",
    "\n",
    "    days =[]\n",
    "    while start_date_f <= end_date_f:\n",
    "        days.append(start_date_f.strftime('%Y-%m-%d'))\n",
    "        start_date_f += timedelta(days=1)\n",
    "    print(days)\n",
    "    \n",
    "date_range('2021-06-07','2021-06-01')"
   ]
  }
 ],
 "metadata": {
  "kernelspec": {
   "display_name": "Python 3",
   "language": "python",
   "name": "python3"
  },
  "language_info": {
   "codemirror_mode": {
    "name": "ipython",
    "version": 3
   },
   "file_extension": ".py",
   "mimetype": "text/x-python",
   "name": "python",
   "nbconvert_exporter": "python",
   "pygments_lexer": "ipython3",
   "version": "3.8.5"
  }
 },
 "nbformat": 4,
 "nbformat_minor": 4
}
